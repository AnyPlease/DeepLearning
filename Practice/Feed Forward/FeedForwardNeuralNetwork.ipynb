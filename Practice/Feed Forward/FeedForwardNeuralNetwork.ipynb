{
 "cells": [
  {
   "cell_type": "code",
   "execution_count": 37,
   "id": "e6653164-bb1e-4745-8c53-2015858b0971",
   "metadata": {},
   "outputs": [],
   "source": [
    "import torch\n",
    "import torch.nn as nn\n",
    "import torchvision\n",
    "import torchvision.transforms as transforms\n",
    "import matplotlib.pyplot as plt"
   ]
  },
  {
   "cell_type": "code",
   "execution_count": 71,
   "id": "432e4f69-4c3b-4cd6-9f92-b4563fc6acb5",
   "metadata": {},
   "outputs": [
    {
     "name": "stdout",
     "output_type": "stream",
     "text": [
      "Using mps device\n"
     ]
    }
   ],
   "source": [
    "# Device config\n",
    "device = (\"cuda\" if torch.cuda.is_available() else \"mps\" if torch.backends.mps.is_available() else \"cpu\")\n",
    "print(f\"Using {device} device\")"
   ]
  },
  {
   "cell_type": "code",
   "execution_count": 78,
   "id": "a91320ce-ea66-4af2-98c3-e607587da99a",
   "metadata": {},
   "outputs": [],
   "source": [
    "# Hyper Parameter\n",
    "input_size = 784\n",
    "hidden_size = 500\n",
    "num_classes = 10\n",
    "num_epochs = 10\n",
    "batch_size = 100\n",
    "lr = 0.001"
   ]
  },
  {
   "cell_type": "code",
   "execution_count": 79,
   "id": "3b38a019-230e-4596-ae98-f39cb6014bd6",
   "metadata": {},
   "outputs": [],
   "source": [
    "# Importing dataset\n",
    "train_dataset = torchvision.datasets.MNIST(root='./data', train=True, transform=transforms.ToTensor())\n",
    "test_dataset = torchvision.datasets.MNIST(root='./data', train=False, transform=transforms.ToTensor())"
   ]
  },
  {
   "cell_type": "code",
   "execution_count": 80,
   "id": "d6a0c0f4-78dd-44bc-b9fe-c6849ef4600c",
   "metadata": {},
   "outputs": [],
   "source": [
    "# Data loader\n",
    "train_loader = torch.utils.data.DataLoader(dataset=train_dataset, batch_size=batch_size, shuffle=True)\n",
    "test_loader = torch.utils.data.DataLoader(dataset=test_dataset, batch_size=batch_size, shuffle=False)"
   ]
  },
  {
   "cell_type": "code",
   "execution_count": 81,
   "id": "9801bbb4-9dc8-4da0-aaa0-2a190a236f63",
   "metadata": {},
   "outputs": [],
   "source": [
    "features, labels = next(iter(train_loader))"
   ]
  },
  {
   "cell_type": "code",
   "execution_count": 82,
   "id": "43d3da0d-2be1-4a11-8789-9221c24bf9f6",
   "metadata": {},
   "outputs": [
    {
     "data": {
      "image/png": "[encoded data removed]",
      "text/plain": [
       "<Figure size 640x480 with 6 Axes>"
      ]
     },
     "metadata": {},
     "output_type": "display_data"
    }
   ],
   "source": [
    "for i in range(6):\n",
    "    plt.subplot(2,3,i+1)\n",
    "    plt.imshow(features[i][0], cmap='grey')"
   ]
  },
  {
   "cell_type": "code",
   "execution_count": 83,
   "id": "d2e24c92-1461-4c27-b3fc-b1b42a503160",
   "metadata": {},
   "outputs": [],
   "source": [
    "class NeuralNetwork(nn.Module):\n",
    "    def __init__(self, input_size, hidden_size, num_classes):\n",
    "        super().__init__()\n",
    "        self.layer1 = nn.Linear(input_size, hidden_size)\n",
    "        self.relu = nn.ReLU()\n",
    "        self.layer2 = nn.Linear(hidden_size, num_classes)\n",
    "        \n",
    "\n",
    "    def forward(self, x):\n",
    "        out = self.layer1(x)\n",
    "        out = self.relu(out)\n",
    "        out = self.layer2(out)\n",
    "        return out\n",
    "\n",
    "model = NeuralNetwork(input_size, hidden_size, num_classes).to(device)"
   ]
  },
  {
   "cell_type": "code",
   "execution_count": 84,
   "id": "dd819d80",
   "metadata": {},
   "outputs": [],
   "source": [
    "# Loss and Optimizer\n",
    "criterion = nn.CrossEntropyLoss()\n",
    "optimizer = torch.optim.Adam(model.parameters(), lr=lr)"
   ]
  },
  {
   "cell_type": "code",
   "execution_count": 85,
   "id": "45c590e5",
   "metadata": {},
   "outputs": [
    {
     "name": "stdout",
     "output_type": "stream",
     "text": [
      "epoch: 1/10, Loss: 2.2808, Steps: 100/600\n",
      "epoch: 1/10, Loss: 2.2975, Steps: 200/600\n",
      "epoch: 1/10, Loss: 2.2734, Steps: 300/600\n",
      "epoch: 1/10, Loss: 2.2918, Steps: 400/600\n",
      "epoch: 1/10, Loss: 2.2820, Steps: 500/600\n",
      "epoch: 1/10, Loss: 2.2839, Steps: 600/600\n",
      "epoch: 2/10, Loss: 2.2737, Steps: 100/600\n",
      "epoch: 2/10, Loss: 2.2815, Steps: 200/600\n",
      "epoch: 2/10, Loss: 2.2828, Steps: 300/600\n",
      "epoch: 2/10, Loss: 2.2768, Steps: 400/600\n",
      "epoch: 2/10, Loss: 2.2826, Steps: 500/600\n",
      "epoch: 2/10, Loss: 2.2763, Steps: 600/600\n",
      "epoch: 3/10, Loss: 2.2776, Steps: 100/600\n",
      "epoch: 3/10, Loss: 2.2815, Steps: 200/600\n",
      "epoch: 3/10, Loss: 2.2780, Steps: 300/600\n",
      "epoch: 3/10, Loss: 2.2787, Steps: 400/600\n",
      "epoch: 3/10, Loss: 2.2748, Steps: 500/600\n",
      "epoch: 3/10, Loss: 2.2731, Steps: 600/600\n",
      "epoch: 4/10, Loss: 2.2730, Steps: 100/600\n",
      "epoch: 4/10, Loss: 2.2824, Steps: 200/600\n",
      "epoch: 4/10, Loss: 2.2794, Steps: 300/600\n",
      "epoch: 4/10, Loss: 2.2761, Steps: 400/600\n",
      "epoch: 4/10, Loss: 2.2809, Steps: 500/600\n",
      "epoch: 4/10, Loss: 2.2804, Steps: 600/600\n",
      "epoch: 5/10, Loss: 2.2762, Steps: 100/600\n",
      "epoch: 5/10, Loss: 2.2774, Steps: 200/600\n",
      "epoch: 5/10, Loss: 2.2792, Steps: 300/600\n",
      "epoch: 5/10, Loss: 2.2817, Steps: 400/600\n",
      "epoch: 5/10, Loss: 2.2800, Steps: 500/600\n",
      "epoch: 5/10, Loss: 2.2790, Steps: 600/600\n",
      "epoch: 6/10, Loss: 2.2791, Steps: 100/600\n",
      "epoch: 6/10, Loss: 2.2793, Steps: 200/600\n",
      "epoch: 6/10, Loss: 2.2772, Steps: 300/600\n",
      "epoch: 6/10, Loss: 2.2786, Steps: 400/600\n",
      "epoch: 6/10, Loss: 2.2810, Steps: 500/600\n",
      "epoch: 6/10, Loss: 2.2788, Steps: 600/600\n",
      "epoch: 7/10, Loss: 2.2791, Steps: 100/600\n",
      "epoch: 7/10, Loss: 2.2800, Steps: 200/600\n",
      "epoch: 7/10, Loss: 2.2778, Steps: 300/600\n",
      "epoch: 7/10, Loss: 2.2793, Steps: 400/600\n",
      "epoch: 7/10, Loss: 2.2796, Steps: 500/600\n",
      "epoch: 7/10, Loss: 2.2794, Steps: 600/600\n",
      "epoch: 8/10, Loss: 2.2791, Steps: 100/600\n",
      "epoch: 8/10, Loss: 2.2783, Steps: 200/600\n",
      "epoch: 8/10, Loss: 2.2798, Steps: 300/600\n",
      "epoch: 8/10, Loss: 2.2794, Steps: 400/600\n",
      "epoch: 8/10, Loss: 2.2824, Steps: 500/600\n",
      "epoch: 8/10, Loss: 2.2796, Steps: 600/600\n",
      "epoch: 9/10, Loss: 2.2846, Steps: 100/600\n",
      "epoch: 9/10, Loss: 2.2793, Steps: 200/600\n",
      "epoch: 9/10, Loss: 2.2802, Steps: 300/600\n",
      "epoch: 9/10, Loss: 2.2792, Steps: 400/600\n",
      "epoch: 9/10, Loss: 2.2796, Steps: 500/600\n",
      "epoch: 9/10, Loss: 2.2789, Steps: 600/600\n",
      "epoch: 10/10, Loss: 2.2795, Steps: 100/600\n",
      "epoch: 10/10, Loss: 2.2794, Steps: 200/600\n",
      "epoch: 10/10, Loss: 2.2796, Steps: 300/600\n",
      "epoch: 10/10, Loss: 2.2793, Steps: 400/600\n",
      "epoch: 10/10, Loss: 2.2794, Steps: 500/600\n",
      "epoch: 10/10, Loss: 2.2774, Steps: 600/600\n"
     ]
    }
   ],
   "source": [
    "n_total_steps = len(train_loader)\n",
    "\n",
    "for epoch in range(num_epochs):\n",
    "    for i, (images,lables) in enumerate(train_loader):\n",
    "        images = images.reshape(-1,28*28).to(device)\n",
    "        lables = labels.to(device)\n",
    "\n",
    "        outputs = model(images)\n",
    "        loss = criterion(outputs, lables)\n",
    "        \n",
    "        # Backward and optimize\n",
    "        optimizer.zero_grad()\n",
    "        loss.backward()\n",
    "        optimizer.step()\n",
    "\n",
    "        if (i+1) % 100 == 0:\n",
    "            print(f\"epoch: {epoch+1}/{num_epochs}, Loss: {loss.item():.4f}, Steps: {i+1}/{n_total_steps}\")"
   ]
  },
  {
   "cell_type": "code",
   "execution_count": 86,
   "id": "3eea0809",
   "metadata": {},
   "outputs": [
    {
     "name": "stdout",
     "output_type": "stream",
     "text": [
      "Accuracy: 10.09%\n"
     ]
    }
   ],
   "source": [
    "with torch.no_grad():\n",
    "    n_correct = 0\n",
    "    n_samples = 0\n",
    "\n",
    "    for images, lables in test_loader:\n",
    "        images = images.reshape(-1,28*28).to(device)\n",
    "        labels = lables.to(device)\n",
    "\n",
    "        outputs = model(images)\n",
    "        _, prediction = torch.max(outputs,1)\n",
    "        n_samples += labels.shape[0]\n",
    "        n_correct += (prediction == labels).sum().item()\n",
    "\n",
    "    acc = 100.0 * (n_correct/n_samples)\n",
    "    print(f\"Accuracy: {acc}%\")\n",
    "        "
   ]
  },
  {
   "cell_type": "code",
   "execution_count": null,
   "id": "916b9551",
   "metadata": {},
   "outputs": [],
   "source": []
  }
 ],
 "metadata": {
  "kernelspec": {
   "display_name": "Python 3 (ipykernel)",
   "language": "python",
   "name": "python3"
  },
  "language_info": {
   "codemirror_mode": {
    "name": "ipython",
    "version": 3
   },
   "file_extension": ".py",
   "mimetype": "text/x-python",
   "name": "python",
   "nbconvert_exporter": "python",
   "pygments_lexer": "ipython3",
   "version": "3.12.4"
  }
 },
 "nbformat": 4,
 "nbformat_minor": 5
}
