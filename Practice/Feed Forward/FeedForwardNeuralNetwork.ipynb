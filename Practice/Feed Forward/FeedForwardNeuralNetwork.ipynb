{
 "cells": [
  {
   "cell_type": "code",
   "execution_count": 1,
   "id": "e6653164-bb1e-4745-8c53-2015858b0971",
   "metadata": {},
   "outputs": [],
   "source": [
    "import torch\n",
    "import torch.nn as nn\n",
    "import torchvision\n",
    "import torchvision.transforms as transforms\n",
    "import matplotlib.pyplot as plt"
   ]
  },
  {
   "cell_type": "code",
   "execution_count": 2,
   "id": "432e4f69-4c3b-4cd6-9f92-b4563fc6acb5",
   "metadata": {},
   "outputs": [
    {
     "name": "stdout",
     "output_type": "stream",
     "text": [
      "Using mps device\n"
     ]
    }
   ],
   "source": [
    "# Device config\n",
    "device = (\"cuda\" if torch.cuda.is_available() else \"mps\" if torch.backends.mps.is_available() else \"cpu\")\n",
    "print(f\"Using {device} device\")"
   ]
  },
  {
   "cell_type": "code",
   "execution_count": 3,
   "id": "a91320ce-ea66-4af2-98c3-e607587da99a",
   "metadata": {},
   "outputs": [],
   "source": [
    "# Hyper Parameter\n",
    "input_size = 784\n",
    "hidden_size = 500\n",
    "num_classes = 10\n",
    "num_epochs = 10\n",
    "batch_size = 100\n",
    "lr = 0.001"
   ]
  },
  {
   "cell_type": "code",
   "execution_count": 4,
   "id": "3b38a019-230e-4596-ae98-f39cb6014bd6",
   "metadata": {},
   "outputs": [],
   "source": [
    "# Importing dataset\n",
    "train_dataset = torchvision.datasets.MNIST(root='./data', train=True, transform=transforms.ToTensor())\n",
    "test_dataset = torchvision.datasets.MNIST(root='./data', train=False, transform=transforms.ToTensor())"
   ]
  },
  {
   "cell_type": "code",
   "execution_count": 5,
   "id": "d6a0c0f4-78dd-44bc-b9fe-c6849ef4600c",
   "metadata": {},
   "outputs": [],
   "source": [
    "# Data loader\n",
    "train_loader = torch.utils.data.DataLoader(dataset=train_dataset, batch_size=batch_size, shuffle=True)\n",
    "test_loader = torch.utils.data.DataLoader(dataset=test_dataset, batch_size=batch_size, shuffle=False)"
   ]
  },
  {
   "cell_type": "code",
   "execution_count": 6,
   "id": "9801bbb4-9dc8-4da0-aaa0-2a190a236f63",
   "metadata": {},
   "outputs": [],
   "source": [
    "features, labels = next(iter(train_loader))"
   ]
  },
  {
   "cell_type": "code",
   "execution_count": 7,
   "id": "43d3da0d-2be1-4a11-8789-9221c24bf9f6",
   "metadata": {},
   "outputs": [
    {
     "data": {
      "image/png": "[encoded data removed]",
      "text/plain": [
       "<Figure size 640x480 with 6 Axes>"
      ]
     },
     "metadata": {},
     "output_type": "display_data"
    }
   ],
   "source": [
    "for i in range(6):\n",
    "    plt.subplot(2,3,i+1)\n",
    "    plt.imshow(features[i][0], cmap='grey')"
   ]
  },
  {
   "cell_type": "code",
   "execution_count": 6,
   "id": "d2e24c92-1461-4c27-b3fc-b1b42a503160",
   "metadata": {},
   "outputs": [],
   "source": [
    "class NeuralNetwork(nn.Module):\n",
    "    def __init__(self, input_size, hidden_size, num_classes):\n",
    "        super(NeuralNetwork,self).__init__()\n",
    "        self.input_size = input_size\n",
    "        self.layer1 = nn.Linear(input_size, hidden_size)\n",
    "        self.relu = nn.ReLU()\n",
    "        self.layer2 = nn.Linear(hidden_size, num_classes)\n",
    "        \n",
    "\n",
    "    def forward(self, x):\n",
    "        out = self.layer1(x)\n",
    "        out = self.relu(out)\n",
    "        out = self.layer2(out)\n",
    "        return out\n",
    "\n",
    "model = NeuralNetwork(input_size, hidden_size, num_classes).to(device)"
   ]
  },
  {
   "cell_type": "code",
   "execution_count": 7,
   "id": "dd819d80",
   "metadata": {},
   "outputs": [],
   "source": [
    "# Loss and Optimizer\n",
    "criterion = nn.CrossEntropyLoss()\n",
    "optimizer = torch.optim.Adam(model.parameters(), lr=lr)"
   ]
  },
  {
   "cell_type": "code",
   "execution_count": 10,
   "id": "45c590e5",
   "metadata": {},
   "outputs": [
    {
     "name": "stdout",
     "output_type": "stream",
     "text": [
      "Epoch [1/10], Step [100/600], Loss: 0.3223\n",
      "Epoch [1/10], Step [200/600], Loss: 0.3108\n",
      "Epoch [1/10], Step [300/600], Loss: 0.2327\n",
      "Epoch [1/10], Step [400/600], Loss: 0.1831\n",
      "Epoch [1/10], Step [500/600], Loss: 0.2943\n",
      "Epoch [1/10], Step [600/600], Loss: 0.1834\n",
      "Epoch [2/10], Step [100/600], Loss: 0.1505\n",
      "Epoch [2/10], Step [200/600], Loss: 0.1213\n",
      "Epoch [2/10], Step [300/600], Loss: 0.1830\n",
      "Epoch [2/10], Step [400/600], Loss: 0.2666\n",
      "Epoch [2/10], Step [500/600], Loss: 0.0454\n",
      "Epoch [2/10], Step [600/600], Loss: 0.0577\n",
      "Epoch [3/10], Step [100/600], Loss: 0.0863\n",
      "Epoch [3/10], Step [200/600], Loss: 0.0506\n",
      "Epoch [3/10], Step [300/600], Loss: 0.0808\n",
      "Epoch [3/10], Step [400/600], Loss: 0.0172\n",
      "Epoch [3/10], Step [500/600], Loss: 0.1221\n",
      "Epoch [3/10], Step [600/600], Loss: 0.0343\n",
      "Epoch [4/10], Step [100/600], Loss: 0.0441\n",
      "Epoch [4/10], Step [200/600], Loss: 0.0577\n",
      "Epoch [4/10], Step [300/600], Loss: 0.1810\n",
      "Epoch [4/10], Step [400/600], Loss: 0.0302\n",
      "Epoch [4/10], Step [500/600], Loss: 0.0475\n",
      "Epoch [4/10], Step [600/600], Loss: 0.0553\n",
      "Epoch [5/10], Step [100/600], Loss: 0.0467\n",
      "Epoch [5/10], Step [200/600], Loss: 0.0301\n",
      "Epoch [5/10], Step [300/600], Loss: 0.1317\n",
      "Epoch [5/10], Step [400/600], Loss: 0.0245\n",
      "Epoch [5/10], Step [500/600], Loss: 0.0758\n",
      "Epoch [5/10], Step [600/600], Loss: 0.0789\n",
      "Epoch [6/10], Step [100/600], Loss: 0.0671\n",
      "Epoch [6/10], Step [200/600], Loss: 0.0182\n",
      "Epoch [6/10], Step [300/600], Loss: 0.0071\n",
      "Epoch [6/10], Step [400/600], Loss: 0.0502\n",
      "Epoch [6/10], Step [500/600], Loss: 0.0039\n",
      "Epoch [6/10], Step [600/600], Loss: 0.0374\n",
      "Epoch [7/10], Step [100/600], Loss: 0.0172\n",
      "Epoch [7/10], Step [200/600], Loss: 0.0085\n",
      "Epoch [7/10], Step [300/600], Loss: 0.0110\n",
      "Epoch [7/10], Step [400/600], Loss: 0.0164\n",
      "Epoch [7/10], Step [500/600], Loss: 0.0172\n",
      "Epoch [7/10], Step [600/600], Loss: 0.0303\n",
      "Epoch [8/10], Step [100/600], Loss: 0.0111\n",
      "Epoch [8/10], Step [200/600], Loss: 0.0019\n",
      "Epoch [8/10], Step [300/600], Loss: 0.0245\n",
      "Epoch [8/10], Step [400/600], Loss: 0.0101\n",
      "Epoch [8/10], Step [500/600], Loss: 0.0016\n",
      "Epoch [8/10], Step [600/600], Loss: 0.0253\n",
      "Epoch [9/10], Step [100/600], Loss: 0.0026\n",
      "Epoch [9/10], Step [200/600], Loss: 0.0065\n",
      "Epoch [9/10], Step [300/600], Loss: 0.0050\n",
      "Epoch [9/10], Step [400/600], Loss: 0.0093\n",
      "Epoch [9/10], Step [500/600], Loss: 0.0097\n",
      "Epoch [9/10], Step [600/600], Loss: 0.0058\n",
      "Epoch [10/10], Step [100/600], Loss: 0.0044\n",
      "Epoch [10/10], Step [200/600], Loss: 0.0041\n",
      "Epoch [10/10], Step [300/600], Loss: 0.0052\n",
      "Epoch [10/10], Step [400/600], Loss: 0.0023\n",
      "Epoch [10/10], Step [500/600], Loss: 0.0333\n",
      "Epoch [10/10], Step [600/600], Loss: 0.0127\n"
     ]
    }
   ],
   "source": [
    "n_total_steps = len(train_loader)\n",
    "\n",
    "for epoch in range(num_epochs):\n",
    "    for i, (images,labels) in enumerate(train_loader):\n",
    "        images = images.reshape(-1,28*28).to(device)\n",
    "        labels = labels.to(device)\n",
    "\n",
    "        outputs = model(images)\n",
    "        loss = criterion(outputs, labels)\n",
    "        \n",
    "        # Backward and optimize\n",
    "        optimizer.zero_grad()\n",
    "        loss.backward()\n",
    "        optimizer.step()\n",
    "\n",
    "        if (i+1) % 100 == 0:\n",
    "            print (f'Epoch [{epoch+1}/{num_epochs}], Step [{i+1}/{n_total_steps}], Loss: {loss.item():.4f}')"
   ]
  },
  {
   "cell_type": "code",
   "execution_count": 13,
   "id": "3eea0809",
   "metadata": {},
   "outputs": [
    {
     "name": "stdout",
     "output_type": "stream",
     "text": [
      "Accuracy: 98.09%\n"
     ]
    }
   ],
   "source": [
    "with torch.no_grad():\n",
    "    n_correct = 0\n",
    "    n_samples = 0\n",
    "\n",
    "    for images, lables in test_loader:\n",
    "        images = images.reshape(-1,28*28).to(device)\n",
    "        labels = lables.to(device)\n",
    "\n",
    "        outputs = model(images)\n",
    "        _, prediction = torch.max(outputs,1)\n",
    "        n_samples += labels.shape[0]\n",
    "        n_correct += (prediction == labels).sum().item()\n",
    "\n",
    "    acc = 100.0 * (n_correct/n_samples)\n",
    "    print(f\"Accuracy: {acc}%\")\n",
    "        "
   ]
  },
  {
   "cell_type": "code",
   "execution_count": null,
   "id": "916b9551",
   "metadata": {},
   "outputs": [],
   "source": []
  }
 ],
 "metadata": {
  "kernelspec": {
   "display_name": "Python 3 (ipykernel)",
   "language": "python",
   "name": "python3"
  },
  "language_info": {
   "codemirror_mode": {
    "name": "ipython",
    "version": 3
   },
   "file_extension": ".py",
   "mimetype": "text/x-python",
   "name": "python",
   "nbconvert_exporter": "python",
   "pygments_lexer": "ipython3",
   "version": "3.12.4"
  }
 },
 "nbformat": 4,
 "nbformat_minor": 5
}
